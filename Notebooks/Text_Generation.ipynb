{
 "cells": [
  {
   "attachments": {
    "image.png": {
     "image/png": "[encoded data removed]"
    }
   },
   "cell_type": "markdown",
   "metadata": {},
   "source": [
    "# Text Generation using NLP \n",
    "\n",
    "I will be creating a model which uses two approaches to generate sentences - Markov Chains, LSTMs. I could also use GPT2 but that takes roughly 5 minutes for inference alone and the training would take anywhere between 2-4 hours. \n",
    "\n",
    "## Markov Chains \n",
    "\n",
    "![image.png](attachment:image.png)"
   ]
  },
  {
   "cell_type": "code",
   "execution_count": 57,
   "metadata": {},
   "outputs": [],
   "source": [
    "# Import necessary libraries\n",
    "import numpy as np\n",
    "import pandas as pd\n",
    "import nltk"
   ]
  },
  {
   "cell_type": "code",
   "execution_count": 58,
   "metadata": {},
   "outputs": [
    {
     "name": "stdout",
     "output_type": "stream",
     "text": [
      "896270\n"
     ]
    }
   ],
   "source": [
    "# Open the trump speech corpus \n",
    "with open('../data/trump_speeches.txt', encoding='utf8') as f:\n",
    "    text = f.read()\n",
    "\n",
    "print(len(text))"
   ]
  },
  {
   "cell_type": "code",
   "execution_count": 59,
   "metadata": {},
   "outputs": [
    {
     "name": "stdout",
     "output_type": "stream",
     "text": [
      "948962\n"
     ]
    }
   ],
   "source": [
    "# Text Cleaning\n",
    "text = text.replace('\\n',' ')\n",
    "text = text.lower()\n",
    "text = text.replace('\\t',' ')\n",
    "text = text.replace('...',' ')\n",
    "text = text.replace('“', ' \" ')\n",
    "text = text.replace('”', ' \" ')\n",
    "for spaced in ['.','-',',','!','?','(','—',')']:\n",
    "    text = text.replace(spaced, ' {0} '.format(spaced))\n",
    "\n",
    "print(len(text))"
   ]
  },
  {
   "cell_type": "code",
   "execution_count": 60,
   "metadata": {},
   "outputs": [
    {
     "data": {
      "text/plain": [
       "\"\\ufeffspeech 1    thank you so much .   that's so nice .   isn't he a great guy .   he doesn't get a fair press; he doesn't get it .   it's just not fair .   and i have to tell you i'm here ,  and very strongly here ,  because i have great respect for steve king and have great respect likewise for citizens united ,  david and everybody ,  and tremendous resect for the tea party .   also ,  also the people of iowa .   they have something in common .   hard - working people .   they want to work ,  they want to make the country great .   i love the people of iowa .   so that's the way it is .   very simple .  with that said ,  our country is really headed in the wrong direction with a president who is doing an absolutely terrible job .   the world is collapsing around us ,  and many of the problems we've caused .   our president is either grossly incompetent ,  a word that more and more people are using ,  and i think i was the first to use it ,  or he has a completely different agenda than you want to know about ,  which could be possible .   in any event ,  washington is broken ,  and our country is in serious trouble and total disarray .   very simple .   politicians are all talk ,  no action .   they are all talk and no action .   and it's constant; it never ends .  and i'm a conservative ,  actually very conservative ,  and i'm a republican .   and i'm very disappointed by our republican politicians .   because they let the president get away with absolute murder .   you see always ,  oh we're going to do this ,  we're going to -  -  .   nothing ever happens; nothing ever happens .  you look at obamacare .   a total catastrophe and by the way it really kicks in in '16 and it is going to be a disaster .   people are closing up shops .   doctors are quitting the business .   i have a friend of mine who's a doctor ,  a very good doctor ,  a very successful guy .   he said ,  i have more accountants than i have patients .   and he needs because it is so complicated and so terrible and he's never had that before and he's going to close up his business .   and he was very successful guy .   but it's happening more and more .  look at obamacare with a $5 billion website .   i have many websites ,  many ,  many websites .   they're all over the place .   but for $10 ,  okay ?  now everything about obamacare was a lie .   it was a filthy lie .   and when you think about it ,  lies ,  i mean are they prosecuted ?   does anyone do anything ?   and what are the republican politicians doing about it ?   he lied about the doctor ,  he lied about every aspect .   you can keep your plan .   and you've all heard that hundreds of times .   that's like the real estate location ,  location .   i don't even say it anymore because everybody goes location ,  location .   but you have heard this about obamacare .  and it's disgraceful .   it's a big ,  fat ,  horrible lie .   your deductibles are going through the roof .   you're not going to get -  - unless you're hit by\""
      ]
     },
     "execution_count": 60,
     "metadata": {},
     "output_type": "execute_result"
    }
   ],
   "source": [
    "text[:3000]"
   ]
  },
  {
   "cell_type": "code",
   "execution_count": 61,
   "metadata": {},
   "outputs": [
    {
     "data": {
      "text/plain": [
       "195264"
      ]
     },
     "execution_count": 61,
     "metadata": {},
     "output_type": "execute_result"
    }
   ],
   "source": [
    "# Tokenize the text \n",
    "tokens = text.split()\n",
    "len(tokens)"
   ]
  },
  {
   "cell_type": "markdown",
   "metadata": {},
   "source": [
    "Define a function to give us all pairs of words in the speeches. We’re using lazy evaluation, and yielding a generator object instead of actually filling up our memory with every pair of words."
   ]
  },
  {
   "cell_type": "code",
   "execution_count": 62,
   "metadata": {},
   "outputs": [],
   "source": [
    "# Make a generator function\n",
    "def make_pairs(corpus):\n",
    "    for i in range(len(corpus)-1):\n",
    "        yield (corpus[i], corpus[i+1])\n",
    "        \n",
    "pairs = make_pairs(tokens)"
   ]
  },
  {
   "cell_type": "markdown",
   "metadata": {},
   "source": [
    "If the first word of the pair is already a key in the dictionary, simply append the next word to the list of words that follow that word. Otherwise, initialize a new entry in the dictionary with the key equal to the first word and the value a list of length one:"
   ]
  },
  {
   "cell_type": "code",
   "execution_count": 63,
   "metadata": {},
   "outputs": [],
   "source": [
    "word_dict = {}\n",
    "for word_1, word_2 in pairs:\n",
    "    if word_1 in word_dict.keys():\n",
    "        word_dict[word_1].append(word_2)\n",
    "    else:\n",
    "        word_dict[word_1] = [word_2]"
   ]
  },
  {
   "cell_type": "markdown",
   "metadata": {},
   "source": [
    "Finally we pick some random word to kick off the chain, and choose the number of words we want to simulate:"
   ]
  },
  {
   "cell_type": "code",
   "execution_count": 67,
   "metadata": {},
   "outputs": [],
   "source": [
    "first_word = np.random.choice(tokens)\n",
    "chain = [first_word]\n",
    "n_words = 30"
   ]
  },
  {
   "cell_type": "code",
   "execution_count": 68,
   "metadata": {},
   "outputs": [],
   "source": [
    "for i in range(n_words):\n",
    "    chain.append(np.random.choice(word_dict[chain[-1]]))"
   ]
  },
  {
   "cell_type": "code",
   "execution_count": 69,
   "metadata": {},
   "outputs": [
    {
     "data": {
      "text/plain": [
       "'so much larger convention center for a total mess . i was right , he gets too high school choice , \"i’m going to win\" because they going to make america'"
      ]
     },
     "execution_count": 69,
     "metadata": {},
     "output_type": "execute_result"
    }
   ],
   "source": [
    "' '.join(chain)"
   ]
  },
  {
   "cell_type": "code",
   "execution_count": 76,
   "metadata": {},
   "outputs": [],
   "source": [
    "distinct_words = list(set(tokens))\n",
    "word_idx_dict = {word: i for i, word in enumerate(distinct_words)}"
   ]
  },
  {
   "cell_type": "code",
   "execution_count": 78,
   "metadata": {},
   "outputs": [],
   "source": [
    "k = 2 # adjustable\n",
    "sets_of_k_words = [ ' '.join(tokens[i:i+k]) for i, _ in enumerate(tokens[:-k]) ]\n",
    "\n",
    "from scipy.sparse import dok_matrix\n",
    "\n",
    "sets_count = len(list(set(sets_of_k_words)))\n",
    "next_after_k_words_matrix = dok_matrix((sets_count, len(distinct_words)))\n",
    "\n",
    "distinct_sets_of_k_words = list(set(sets_of_k_words))\n",
    "k_words_idx_dict = {word: i for i, word in enumerate(distinct_sets_of_k_words)}\n",
    "\n",
    "for i, word in enumerate(sets_of_k_words[:-k]):\n",
    "\n",
    "    word_sequence_idx = k_words_idx_dict[word]\n",
    "    next_word_idx = word_idx_dict[tokens[i+k]]\n",
    "    next_after_k_words_matrix[word_sequence_idx, next_word_idx] +=1"
   ]
  },
  {
   "cell_type": "code",
   "execution_count": 80,
   "metadata": {},
   "outputs": [
    {
     "ename": "AttributeError",
     "evalue": "'list' object has no attribute 'split'",
     "output_type": "error",
     "traceback": [
      "\u001b[1;31m---------------------------------------------------------------------------\u001b[0m",
      "\u001b[1;31mAttributeError\u001b[0m                            Traceback (most recent call last)",
      "\u001b[1;32m<ipython-input-80-b035fd5da904>\u001b[0m in \u001b[0;36m<module>\u001b[1;34m\u001b[0m\n\u001b[0;32m     19\u001b[0m \u001b[1;33m\u001b[0m\u001b[0m\n\u001b[0;32m     20\u001b[0m \u001b[1;31m# example use\u001b[0m\u001b[1;33m\u001b[0m\u001b[1;33m\u001b[0m\u001b[0m\n\u001b[1;32m---> 21\u001b[1;33m \u001b[0mstochastic_chain\u001b[0m\u001b[1;33m(\u001b[0m\u001b[1;34m'the world'\u001b[0m\u001b[1;33m)\u001b[0m\u001b[1;33m\u001b[0m\u001b[0m\n\u001b[0m",
      "\u001b[1;32m<ipython-input-80-b035fd5da904>\u001b[0m in \u001b[0;36mstochastic_chain\u001b[1;34m(seed, chain_length, seed_length)\u001b[0m\n\u001b[0;32m     13\u001b[0m     \u001b[1;32mfor\u001b[0m \u001b[0m_\u001b[0m \u001b[1;32min\u001b[0m \u001b[0mrange\u001b[0m\u001b[1;33m(\u001b[0m\u001b[0mchain_length\u001b[0m\u001b[1;33m)\u001b[0m\u001b[1;33m:\u001b[0m\u001b[1;33m\u001b[0m\u001b[0m\n\u001b[0;32m     14\u001b[0m         \u001b[0msentence\u001b[0m\u001b[1;33m+=\u001b[0m\u001b[1;34m' '\u001b[0m\u001b[1;33m\u001b[0m\u001b[0m\n\u001b[1;32m---> 15\u001b[1;33m         \u001b[0mnext_word\u001b[0m \u001b[1;33m=\u001b[0m \u001b[0msample_next_word_after_sequence\u001b[0m\u001b[1;33m(\u001b[0m\u001b[1;34m' '\u001b[0m\u001b[1;33m.\u001b[0m\u001b[0mjoin\u001b[0m\u001b[1;33m(\u001b[0m\u001b[0mcurrent_words\u001b[0m\u001b[1;33m)\u001b[0m\u001b[1;33m)\u001b[0m\u001b[1;33m\u001b[0m\u001b[0m\n\u001b[0m\u001b[0;32m     16\u001b[0m         \u001b[0msentence\u001b[0m\u001b[1;33m+=\u001b[0m\u001b[0mnext_word\u001b[0m\u001b[1;33m\u001b[0m\u001b[0m\n\u001b[0;32m     17\u001b[0m         \u001b[0mcurrent_words\u001b[0m \u001b[1;33m=\u001b[0m \u001b[0mcurrent_words\u001b[0m\u001b[1;33m[\u001b[0m\u001b[1;36m1\u001b[0m\u001b[1;33m:\u001b[0m\u001b[1;33m]\u001b[0m\u001b[1;33m+\u001b[0m\u001b[1;33m[\u001b[0m\u001b[0mnext_word\u001b[0m\u001b[1;33m]\u001b[0m\u001b[1;33m\u001b[0m\u001b[0m\n",
      "\u001b[1;32m<ipython-input-80-b035fd5da904>\u001b[0m in \u001b[0;36msample_next_word_after_sequence\u001b[1;34m(word_sequence, alpha)\u001b[0m\n\u001b[0;32m      3\u001b[0m     \u001b[0mlikelihoods\u001b[0m \u001b[1;33m=\u001b[0m \u001b[0mnext_word_vector\u001b[0m\u001b[1;33m/\u001b[0m\u001b[0mnext_word_vector\u001b[0m\u001b[1;33m.\u001b[0m\u001b[0msum\u001b[0m\u001b[1;33m(\u001b[0m\u001b[1;33m)\u001b[0m\u001b[1;33m\u001b[0m\u001b[0m\n\u001b[0;32m      4\u001b[0m \u001b[1;33m\u001b[0m\u001b[0m\n\u001b[1;32m----> 5\u001b[1;33m     \u001b[1;32mreturn\u001b[0m \u001b[0mstochastic_chain\u001b[0m\u001b[1;33m(\u001b[0m\u001b[0mdistinct_words\u001b[0m\u001b[1;33m,\u001b[0m \u001b[0mlikelihoods\u001b[0m\u001b[1;33m.\u001b[0m\u001b[0mtoarray\u001b[0m\u001b[1;33m(\u001b[0m\u001b[1;33m)\u001b[0m\u001b[1;33m)\u001b[0m\u001b[1;33m\u001b[0m\u001b[0m\n\u001b[0m\u001b[0;32m      6\u001b[0m \u001b[1;33m\u001b[0m\u001b[0m\n\u001b[0;32m      7\u001b[0m \u001b[1;32mdef\u001b[0m \u001b[0mstochastic_chain\u001b[0m\u001b[1;33m(\u001b[0m\u001b[0mseed\u001b[0m\u001b[1;33m,\u001b[0m \u001b[0mchain_length\u001b[0m\u001b[1;33m=\u001b[0m\u001b[1;36m15\u001b[0m\u001b[1;33m,\u001b[0m \u001b[0mseed_length\u001b[0m\u001b[1;33m=\u001b[0m\u001b[1;36m2\u001b[0m\u001b[1;33m)\u001b[0m\u001b[1;33m:\u001b[0m\u001b[1;33m\u001b[0m\u001b[0m\n",
      "\u001b[1;32m<ipython-input-80-b035fd5da904>\u001b[0m in \u001b[0;36mstochastic_chain\u001b[1;34m(seed, chain_length, seed_length)\u001b[0m\n\u001b[0;32m      6\u001b[0m \u001b[1;33m\u001b[0m\u001b[0m\n\u001b[0;32m      7\u001b[0m \u001b[1;32mdef\u001b[0m \u001b[0mstochastic_chain\u001b[0m\u001b[1;33m(\u001b[0m\u001b[0mseed\u001b[0m\u001b[1;33m,\u001b[0m \u001b[0mchain_length\u001b[0m\u001b[1;33m=\u001b[0m\u001b[1;36m15\u001b[0m\u001b[1;33m,\u001b[0m \u001b[0mseed_length\u001b[0m\u001b[1;33m=\u001b[0m\u001b[1;36m2\u001b[0m\u001b[1;33m)\u001b[0m\u001b[1;33m:\u001b[0m\u001b[1;33m\u001b[0m\u001b[0m\n\u001b[1;32m----> 8\u001b[1;33m     \u001b[0mcurrent_words\u001b[0m \u001b[1;33m=\u001b[0m \u001b[0mseed\u001b[0m\u001b[1;33m.\u001b[0m\u001b[0msplit\u001b[0m\u001b[1;33m(\u001b[0m\u001b[1;34m' '\u001b[0m\u001b[1;33m)\u001b[0m\u001b[1;33m\u001b[0m\u001b[0m\n\u001b[0m\u001b[0;32m      9\u001b[0m     \u001b[1;32mif\u001b[0m \u001b[0mlen\u001b[0m\u001b[1;33m(\u001b[0m\u001b[0mcurrent_words\u001b[0m\u001b[1;33m)\u001b[0m \u001b[1;33m!=\u001b[0m \u001b[0mseed_length\u001b[0m\u001b[1;33m:\u001b[0m\u001b[1;33m\u001b[0m\u001b[0m\n\u001b[0;32m     10\u001b[0m         \u001b[1;32mraise\u001b[0m \u001b[0mValueError\u001b[0m\u001b[1;33m(\u001b[0m\u001b[1;34mf'wrong number of words, expected {seed_length}'\u001b[0m\u001b[1;33m)\u001b[0m\u001b[1;33m\u001b[0m\u001b[0m\n",
      "\u001b[1;31mAttributeError\u001b[0m: 'list' object has no attribute 'split'"
     ]
    }
   ],
   "source": [
    "def sample_next_word_after_sequence(word_sequence, alpha = 0):\n",
    "    next_word_vector = next_after_k_words_matrix[k_words_idx_dict[word_sequence]] + alpha\n",
    "    likelihoods = next_word_vector/next_word_vector.sum()\n",
    "    \n",
    "    return weighted_choice(distinct_words, likelihoods.toarray())\n",
    "    \n",
    "def stochastic_chain(seed, chain_length=15, seed_length=2):\n",
    "    current_words = seed.split(' ')\n",
    "    if len(current_words) != seed_length:\n",
    "        raise ValueError(f'wrong number of words, expected {seed_length}')\n",
    "    sentence = seed\n",
    "\n",
    "    for _ in range(chain_length):\n",
    "        sentence+=' '\n",
    "        next_word = sample_next_word_after_sequence(' '.join(current_words))\n",
    "        sentence+=next_word\n",
    "        current_words = current_words[1:]+[next_word]\n",
    "    return sentence\n",
    "\n",
    "# example use    \n",
    "stochastic_chain('the world')"
   ]
  },
  {
   "cell_type": "markdown",
   "metadata": {},
   "source": [
    "## LSTM Based Text Generation"
   ]
  },
  {
   "cell_type": "code",
   "execution_count": 71,
   "metadata": {},
   "outputs": [],
   "source": [
    "import numpy\n",
    "from keras.models import Sequential\n",
    "from keras.layers import Dense\n",
    "from keras.layers import Dropout\n",
    "from keras.layers import LSTM\n",
    "from keras.callbacks import ModelCheckpoint\n",
    "from keras.utils import np_utils"
   ]
  },
  {
   "cell_type": "code",
   "execution_count": null,
   "metadata": {},
   "outputs": [],
   "source": []
  }
 ],
 "metadata": {
  "kernelspec": {
   "display_name": "Python 3",
   "language": "python",
   "name": "python3"
  },
  "language_info": {
   "codemirror_mode": {
    "name": "ipython",
    "version": 3
   },
   "file_extension": ".py",
   "mimetype": "text/x-python",
   "name": "python",
   "nbconvert_exporter": "python",
   "pygments_lexer": "ipython3",
   "version": "3.6.4"
  }
 },
 "nbformat": 4,
 "nbformat_minor": 4
}
